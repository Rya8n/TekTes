{
 "cells": [
  {
   "cell_type": "code",
   "execution_count": 8,
   "metadata": {},
   "outputs": [],
   "source": [
    "import pandas as pd\n",
    "import numpy as np\n",
    "import joblib\n",
    "import json\n",
    "from sklearn.preprocessing import LabelEncoder\n",
    "from sklearn.linear_model import LinearRegression\n",
    "from sklearn.metrics import mean_squared_error, mean_absolute_error\n",
    "from sklearn.model_selection import train_test_split"
   ]
  },
  {
   "cell_type": "code",
   "execution_count": 9,
   "metadata": {},
   "outputs": [],
   "source": [
    "trainDtf = pd.read_csv(r\"dataset_train.csv\")\n",
    "valDtf = pd.read_csv(r\"dataset_validation.csv\")\n",
    "testDtf = pd.read_csv(r\"dataset_test.csv\")"
   ]
  },
  {
   "cell_type": "code",
   "execution_count": null,
   "metadata": {},
   "outputs": [],
   "source": [
    "label_encoderGender = LabelEncoder()\n",
    "label_encoderEthnicGroup = LabelEncoder()\n",
    "label_encoderParentEduc = LabelEncoder()\n",
    "label_encoderLunchType = LabelEncoder()\n",
    "label_encoderTestPrep = LabelEncoder()\n",
    "label_encoderParentMaritalStatus = LabelEncoder()\n",
    "label_encoderPracticeSport = LabelEncoder()\n",
    "label_encoderIsFirstChild = LabelEncoder()\n",
    "label_encoderNrSiblings = LabelEncoder()\n",
    "label_encoderTransportMeans= LabelEncoder()\n",
    "label_encoderWklyStudyHours = LabelEncoder()\n",
    "\n",
    "\n",
    "trainDtf['Gender'] = label_encoderGender.fit_transform(trainDtf['Gender'])\n",
    "trainDtf['EthnicGroup'] = label_encoderEthnicGroup.fit_transform(trainDtf['EthnicGroup'])\n",
    "trainDtf['ParentEduc'] = label_encoderParentEduc.fit_transform(trainDtf['ParentEduc'])\n",
    "trainDtf['LunchType'] = label_encoderLunchType.fit_transform(trainDtf['LunchType'])\n",
    "trainDtf['TestPrep'] = label_encoderTestPrep.fit_transform(trainDtf['TestPrep'])\n",
    "trainDtf['ParentMaritalStatus'] = label_encoderParentMaritalStatus.fit_transform(trainDtf['ParentMaritalStatus'])\n",
    "trainDtf['PracticeSport'] = label_encoderPracticeSport.fit_transform(trainDtf['PracticeSport'])\n",
    "trainDtf['IsFirstChild'] = label_encoderIsFirstChild.fit_transform(trainDtf['IsFirstChild'])\n",
    "trainDtf['NrSiblings'] = label_encoderNrSiblings.fit_transform(trainDtf['NrSiblings'])\n",
    "trainDtf['TransportMeans'] = label_encoderTransportMeans.fit_transform(trainDtf['TransportMeans'])\n",
    "trainDtf['WklyStudyHours'] = label_encoderWklyStudyHours.fit_transform(trainDtf['WklyStudyHours'])\n",
    "\n",
    "valDtf['Gender'] = label_encoderGender.transform(valDtf['Gender'])\n",
    "valDtf['EthnicGroup'] = label_encoderEthnicGroup.transform(valDtf['EthnicGroup'])\n",
    "valDtf['ParentEduc'] = label_encoderParentEduc.transform(valDtf['ParentEduc'])\n",
    "valDtf['LunchType'] = label_encoderLunchType.transform(valDtf['LunchType'])\n",
    "valDtf['TestPrep'] = label_encoderTestPrep.transform(valDtf['TestPrep'])\n",
    "valDtf['ParentMaritalStatus'] = label_encoderParentMaritalStatus.transform(valDtf['ParentMaritalStatus'])\n",
    "valDtf['PracticeSport'] = label_encoderPracticeSport.transform(valDtf['PracticeSport'])\n",
    "valDtf['IsFirstChild'] = label_encoderIsFirstChild.transform(valDtf['IsFirstChild'])\n",
    "valDtf['NrSiblings'] = label_encoderNrSiblings.transform(valDtf['NrSiblings'])\n",
    "valDtf['TransportMeans'] = label_encoderTransportMeans.transform(valDtf['TransportMeans'])\n",
    "valDtf['WklyStudyHours'] = label_encoderWklyStudyHours.transform(valDtf['WklyStudyHours'])\n",
    "\n",
    "testDtf['Gender'] = label_encoderGender.transform(testDtf['Gender'])\n",
    "testDtf['EthnicGroup'] = label_encoderEthnicGroup.transform(testDtf['EthnicGroup'])\n",
    "testDtf['ParentEduc'] = label_encoderParentEduc.transform(testDtf['ParentEduc'])\n",
    "testDtf['LunchType'] = label_encoderLunchType.transform(testDtf['LunchType'])\n",
    "testDtf['TestPrep'] = label_encoderTestPrep.transform(testDtf['TestPrep'])\n",
    "testDtf['ParentMaritalStatus'] = label_encoderParentMaritalStatus.transform(testDtf['ParentMaritalStatus'])\n",
    "testDtf['PracticeSport'] = label_encoderPracticeSport.transform(testDtf['PracticeSport'])\n",
    "testDtf['IsFirstChild'] = label_encoderIsFirstChild.transform(testDtf['IsFirstChild'])\n",
    "testDtf['NrSiblings'] = label_encoderNrSiblings.transform(testDtf['NrSiblings'])\n",
    "testDtf['TransportMeans'] = label_encoderTransportMeans.transform(testDtf['TransportMeans'])\n",
    "testDtf['WklyStudyHours'] = label_encoderWklyStudyHours.transform(testDtf['WklyStudyHours'])\n",
    "\n",
    "joblib.dump(label_encoderGender, 'label_encoderGender.pkl')\n",
    "joblib.dump(label_encoderEthnicGroup, 'label_encoderEthnicGroup.pkl')\n",
    "joblib.dump(label_encoderParentEduc, 'label_encoderParentEduc.pkl')\n",
    "joblib.dump(label_encoderLunchType, 'label_encoderLunchType.pkl')\n",
    "joblib.dump(label_encoderTestPrep, 'label_encoderTestPrep.pkl')\n",
    "joblib.dump(label_encoderParentMaritalStatus, 'label_encoderParentMaritalStatus.pkl')\n",
    "joblib.dump(label_encoderPracticeSport, 'label_encoderPracticeSport.pkl')\n",
    "joblib.dump(label_encoderIsFirstChild, 'label_encoderIsFirstChild.pkl')\n",
    "joblib.dump(label_encoderNrSiblings, 'label_encoderNrSiblings.pkl')\n",
    "joblib.dump(label_encoderTransportMeans, 'label_encoderTransportMeans.pkl')\n",
    "joblib.dump(label_encoderWklyStudyHours, 'label_encoderWklyStudyHours.pkl')\n",
    "\n",
    "x_train = trainDtf[[\"Gender\", \"EthnicGroup\", \"ParentEduc\", \"LunchType\", \"TestPrep\", \"ParentMaritalStatus\", \"PracticeSport\", \"IsFirstChild\", \"NrSiblings\", \"TransportMeans\", \"WklyStudyHours\"]].to_numpy()\n",
    "y_train = trainDtf[\"MathScore\"].to_numpy() \n",
    "\n",
    "x_val = valDtf[[\"Gender\", \"EthnicGroup\", \"ParentEduc\", \"LunchType\", \"TestPrep\", \"ParentMaritalStatus\", \"PracticeSport\", \"IsFirstChild\", \"NrSiblings\", \"TransportMeans\", \"WklyStudyHours\"]].to_numpy()\n",
    "y_val = valDtf[\"MathScore\"].to_numpy()\n",
    "\n",
    "x_test = testDtf[[\"Gender\", \"EthnicGroup\", \"ParentEduc\", \"LunchType\", \"TestPrep\", \"ParentMaritalStatus\", \"PracticeSport\", \"IsFirstChild\", \"NrSiblings\", \"TransportMeans\", \"WklyStudyHours\"]].to_numpy()\n",
    "y_test = testDtf[\"MathScore\"].to_numpy()\n",
    "\n",
    "print(x_train)\n",
    "print(\"here\")\n",
    "print(x_val)\n",
    "print(\"here\")\n",
    "print(x_test)\n",
    "print(\"here\")\n",
    "\n",
    "print(y_train)\n",
    "print(y_val)\n",
    "print(y_test)"
   ]
  },
  {
   "cell_type": "code",
   "execution_count": null,
   "metadata": {},
   "outputs": [],
   "source": [
    "model = LinearRegression()\n",
    "model.fit(x_train, y_train)"
   ]
  },
  {
   "cell_type": "code",
   "execution_count": 12,
   "metadata": {},
   "outputs": [],
   "source": [
    "y_val_pred = model.predict(x_val)"
   ]
  },
  {
   "cell_type": "code",
   "execution_count": null,
   "metadata": {},
   "outputs": [],
   "source": [
    "mse = mean_squared_error(y_val, y_val_pred)\n",
    "mae = mean_absolute_error(y_val, y_val_pred)\n",
    "\n",
    "print(f\"Mean Squared Error (MSE): {mse:.4f}\")\n",
    "print(f\"Mean Absolute Error (MAE): {mae:.4f}\")\n",
    "\n",
    "joblib.dump(model, 'linear_regression_model_mathscore.pkl')"
   ]
  }
 ],
 "metadata": {
  "kernelspec": {
   "display_name": "tf",
   "language": "python",
   "name": "python3"
  },
  "language_info": {
   "codemirror_mode": {
    "name": "ipython",
    "version": 3
   },
   "file_extension": ".py",
   "mimetype": "text/x-python",
   "name": "python",
   "nbconvert_exporter": "python",
   "pygments_lexer": "ipython3",
   "version": "3.9.21"
  }
 },
 "nbformat": 4,
 "nbformat_minor": 2
}
