{
 "cells": [
  {
   "cell_type": "code",
   "execution_count": 7,
   "metadata": {},
   "outputs": [],
   "source": [
    "import pandas as pd\n",
    "import numpy as np"
   ]
  },
  {
   "cell_type": "code",
   "execution_count": 8,
   "metadata": {},
   "outputs": [],
   "source": [
    "dtf = pd.read_csv(r\"Dataset_Number2&3a.csv\")"
   ]
  },
  {
   "cell_type": "code",
   "execution_count": 9,
   "metadata": {},
   "outputs": [],
   "source": [
    "# #Filtering numerics\n",
    "\n",
    "def filterNumerics(colName, lowerlimit, upperlimit):\n",
    "    dtf[colName] = pd.to_numeric(dtf[colName], errors='coerce')\n",
    "    filtered_values = dtf[colName][(dtf[colName] >= lowerlimit) & (dtf[colName] <= upperlimit)]\n",
    "    filtered_values_mean = filtered_values.mean()\n",
    "\n",
    "    dtf[colName] = dtf[colName].fillna(0)\n",
    "    for x in dtf.index:\n",
    "        if not (lowerlimit <= dtf.loc[x, colName] <= upperlimit):\n",
    "            dtf.loc[x, colName] = filtered_values_mean\n",
    "\n",
    "    dtf[colName] = dtf[colName].astype(int)\n",
    "\n",
    "filterNumerics(\"MathScore\", 0, 100)\n",
    "filterNumerics(\"ReadingScore\", 0, 100)\n",
    "filterNumerics(\"WritingScore\", 0, 100)\n",
    "filterNumerics(\"NrSiblings\", 0, 7)\n"
   ]
  },
  {
   "cell_type": "code",
   "execution_count": 10,
   "metadata": {},
   "outputs": [],
   "source": [
    "# Filtering categoricals\n",
    "\n",
    "def filterCategoricals(colName, allowedValues):\n",
    "    dtf[colName] = dtf[colName].where(dtf[colName].isin(allowedValues))\n",
    "\n",
    "    value_counts = dtf[colName].value_counts(normalize=True)  \n",
    "    categories = value_counts.index.tolist()  \n",
    "    weights = value_counts.values  \n",
    "\n",
    "\n",
    "    random_fill = np.random.choice(\n",
    "        categories,\n",
    "        size=dtf[colName].isna().sum(),  \n",
    "        p=weights  \n",
    "    )\n",
    "    dtf.loc[dtf[colName].isna(), colName] = random_fill\n",
    "\n",
    "filterCategoricals(\"Gender\", [\"male\", \"female\"])\n",
    "filterCategoricals(\"EthnicGroup\", [\"group A\", \"group B\", \"group C\", \"group D\", \"group E\",])\n",
    "filterCategoricals(\"ParentEduc\", [\"some high school\", \"high school\", \"some college\", \"associate's degree\", \"bachelor's degree\", \"master's degree\"])\n",
    "filterCategoricals(\"LunchType\", [\"standard\", \"free/reduced\"])\n",
    "filterCategoricals(\"TestPrep\", [\"completed\", \"none\"])\n",
    "filterCategoricals(\"ParentMaritalStatus\", [\"married\", \"single\", \"widowed\", \"divorced\"])\n",
    "filterCategoricals(\"PracticeSport\", [\"never\", \"sometimes\", \"regularly\"])\n",
    "filterCategoricals(\"IsFirstChild\", [\"yes\", \"no\"])\n",
    "filterCategoricals(\"TransportMeans\", [\"school_bus\", \"private\"])\n",
    "filterCategoricals(\"WklyStudyHours\", [\"< 5\", \"5-10\", \"> 10\"])\n"
   ]
  },
  {
   "cell_type": "code",
   "execution_count": 11,
   "metadata": {},
   "outputs": [],
   "source": [
    "#Remove left most column\n",
    "\n",
    "dtf = dtf.drop(dtf.columns[[0]], axis=1)"
   ]
  },
  {
   "cell_type": "code",
   "execution_count": 12,
   "metadata": {},
   "outputs": [],
   "source": [
    "dtf.to_excel(\"Dataset_Number2&3a.xlsx\", index=False)"
   ]
  }
 ],
 "metadata": {
  "kernelspec": {
   "display_name": "pytorchcompile",
   "language": "python",
   "name": "python3"
  },
  "language_info": {
   "codemirror_mode": {
    "name": "ipython",
    "version": 3
   },
   "file_extension": ".py",
   "mimetype": "text/x-python",
   "name": "python",
   "nbconvert_exporter": "python",
   "pygments_lexer": "ipython3",
   "version": "3.9.21"
  }
 },
 "nbformat": 4,
 "nbformat_minor": 2
}
