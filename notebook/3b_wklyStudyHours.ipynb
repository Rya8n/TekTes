{
 "cells": [
  {
   "cell_type": "code",
   "execution_count": 1,
   "metadata": {},
   "outputs": [
    {
     "name": "stdout",
     "output_type": "stream",
     "text": [
      "WARNING:tensorflow:From c:\\Users\\Ryannnnnnnn\\anaconda3\\envs\\tf\\lib\\site-packages\\keras\\src\\losses.py:2976: The name tf.losses.sparse_softmax_cross_entropy is deprecated. Please use tf.compat.v1.losses.sparse_softmax_cross_entropy instead.\n",
      "\n"
     ]
    }
   ],
   "source": [
    "import joblib\n",
    "import json\n",
    "import pandas as pd\n",
    "import numpy as np\n",
    "import tensorflow as tf\n",
    "#import tensorflowjs as tfjs\n",
    "from sklearn.preprocessing import LabelEncoder\n",
    "from sklearn.model_selection import train_test_split"
   ]
  },
  {
   "cell_type": "code",
   "execution_count": 2,
   "metadata": {},
   "outputs": [],
   "source": [
    "trainDtf = pd.read_csv(r\"dataset_train.csv\")\n",
    "valDtf = pd.read_csv(r\"dataset_validation.csv\")\n",
    "testDtf = pd.read_csv(r\"dataset_test.csv\")"
   ]
  },
  {
   "cell_type": "code",
   "execution_count": 3,
   "metadata": {},
   "outputs": [
    {
     "name": "stdout",
     "output_type": "stream",
     "text": [
      "24512\n",
      "3065\n",
      "3064\n"
     ]
    }
   ],
   "source": [
    "x_train = trainDtf[[\"MathScore\",\"ReadingScore\",\"WritingScore\"]].to_numpy()\n",
    "y_train = trainDtf[\"WklyStudyHours\"].to_numpy() \n",
    "\n",
    "x_val = valDtf[[\"MathScore\",\"ReadingScore\",\"WritingScore\"]].to_numpy()\n",
    "y_val = valDtf[\"WklyStudyHours\"].to_numpy()\n",
    "\n",
    "x_test = testDtf[[\"MathScore\",\"ReadingScore\",\"WritingScore\"]].to_numpy()\n",
    "y_test = testDtf[\"WklyStudyHours\"].to_numpy()\n",
    "\n",
    "print(len(x_train))\n",
    "print(len(x_val))\n",
    "print(len(x_test))"
   ]
  },
  {
   "cell_type": "code",
   "execution_count": 4,
   "metadata": {},
   "outputs": [
    {
     "name": "stdout",
     "output_type": "stream",
     "text": [
      "[1 2 1 ... 2 0 0]\n",
      "[1 0 0 ... 0 1 1]\n",
      "[1 1 0 ... 0 1 2]\n"
     ]
    }
   ],
   "source": [
    "label_encoder = LabelEncoder()\n",
    "y_train_encoded = label_encoder.fit_transform(y_train)\n",
    "y_val_encoded = label_encoder.transform(y_val)\n",
    "y_test_encoded = label_encoder.transform(y_test)\n",
    "\n",
    "joblib.dump(label_encoder, 'label_encoder.pkl')\n",
    "\n",
    "label_mapping = {label: index for index, label in enumerate(label_encoder.classes_)}\n",
    "with open('label_encoder.json', 'w') as f:\n",
    "    json.dump(label_mapping, f)\n",
    "\n",
    "print(y_train_encoded)\n",
    "print(y_val_encoded)\n",
    "print(y_test_encoded)"
   ]
  },
  {
   "cell_type": "code",
   "execution_count": 5,
   "metadata": {},
   "outputs": [
    {
     "name": "stdout",
     "output_type": "stream",
     "text": [
      "3\n",
      "3\n",
      "WARNING:tensorflow:From c:\\Users\\Ryannnnnnnn\\anaconda3\\envs\\tf\\lib\\site-packages\\keras\\src\\backend.py:873: The name tf.get_default_graph is deprecated. Please use tf.compat.v1.get_default_graph instead.\n",
      "\n",
      "WARNING:tensorflow:From c:\\Users\\Ryannnnnnnn\\anaconda3\\envs\\tf\\lib\\site-packages\\keras\\src\\optimizers\\__init__.py:309: The name tf.train.Optimizer is deprecated. Please use tf.compat.v1.train.Optimizer instead.\n",
      "\n"
     ]
    }
   ],
   "source": [
    "num_classes = len(np.unique(y_train))\n",
    "print(num_classes)\n",
    "print(x_train.shape[1])\n",
    "model = tf.keras.models.Sequential([\n",
    "    tf.keras.layers.Dense(128, activation='relu', input_shape=(x_train.shape[1],)),\n",
    "    tf.keras.layers.Dense(64, activation='relu'),\n",
    "    tf.keras.layers.Dense(64, activation='relu'),\n",
    "    tf.keras.layers.Dense(num_classes, activation='softmax')\n",
    "])\n",
    "# tf.keras.optimizers.RMSprop(learning_rate=0.0000001)\n",
    "model.compile(optimizer=\"adam\", loss='sparse_categorical_crossentropy', metrics=['accuracy'])"
   ]
  },
  {
   "cell_type": "code",
   "execution_count": 6,
   "metadata": {},
   "outputs": [
    {
     "name": "stdout",
     "output_type": "stream",
     "text": [
      "Epoch 1/27\n",
      "WARNING:tensorflow:From c:\\Users\\Ryannnnnnnn\\anaconda3\\envs\\tf\\lib\\site-packages\\keras\\src\\utils\\tf_utils.py:492: The name tf.ragged.RaggedTensorValue is deprecated. Please use tf.compat.v1.ragged.RaggedTensorValue instead.\n",
      "\n",
      "WARNING:tensorflow:From c:\\Users\\Ryannnnnnnn\\anaconda3\\envs\\tf\\lib\\site-packages\\keras\\src\\engine\\base_layer_utils.py:384: The name tf.executing_eagerly_outside_functions is deprecated. Please use tf.compat.v1.executing_eagerly_outside_functions instead.\n",
      "\n",
      "766/766 [==============================] - 2s 1ms/step - loss: 1.0722 - accuracy: 0.5087 - val_loss: 1.0070 - val_accuracy: 0.5491\n",
      "Epoch 2/27\n",
      "766/766 [==============================] - 1s 1ms/step - loss: 1.0142 - accuracy: 0.5387 - val_loss: 0.9888 - val_accuracy: 0.5491\n",
      "Epoch 3/27\n",
      "766/766 [==============================] - 1s 1ms/step - loss: 1.0008 - accuracy: 0.5462 - val_loss: 0.9959 - val_accuracy: 0.5491\n",
      "Epoch 4/27\n",
      "766/766 [==============================] - 1s 1000us/step - loss: 0.9941 - accuracy: 0.5470 - val_loss: 0.9890 - val_accuracy: 0.5491\n",
      "Epoch 5/27\n",
      "766/766 [==============================] - 1s 992us/step - loss: 0.9919 - accuracy: 0.5474 - val_loss: 0.9884 - val_accuracy: 0.5491\n",
      "Epoch 6/27\n",
      "766/766 [==============================] - 1s 998us/step - loss: 0.9920 - accuracy: 0.5474 - val_loss: 0.9904 - val_accuracy: 0.5491\n",
      "Epoch 7/27\n",
      "766/766 [==============================] - 1s 986us/step - loss: 0.9912 - accuracy: 0.5474 - val_loss: 0.9902 - val_accuracy: 0.5491\n",
      "Epoch 8/27\n",
      "766/766 [==============================] - 1s 1ms/step - loss: 0.9912 - accuracy: 0.5474 - val_loss: 0.9903 - val_accuracy: 0.5491\n",
      "Epoch 9/27\n",
      "766/766 [==============================] - 1s 1ms/step - loss: 0.9916 - accuracy: 0.5474 - val_loss: 0.9907 - val_accuracy: 0.5491\n",
      "Epoch 10/27\n",
      "766/766 [==============================] - 1s 990us/step - loss: 0.9912 - accuracy: 0.5474 - val_loss: 0.9902 - val_accuracy: 0.5491\n",
      "Epoch 11/27\n",
      "766/766 [==============================] - 1s 1ms/step - loss: 0.9913 - accuracy: 0.5475 - val_loss: 0.9902 - val_accuracy: 0.5491\n",
      "Epoch 12/27\n",
      "766/766 [==============================] - 1s 1ms/step - loss: 0.9917 - accuracy: 0.5472 - val_loss: 0.9902 - val_accuracy: 0.5491\n",
      "Epoch 13/27\n",
      "766/766 [==============================] - 1s 1ms/step - loss: 0.9913 - accuracy: 0.5474 - val_loss: 0.9904 - val_accuracy: 0.5491\n",
      "Epoch 14/27\n",
      "766/766 [==============================] - 1s 1ms/step - loss: 0.9915 - accuracy: 0.5474 - val_loss: 0.9903 - val_accuracy: 0.5491\n",
      "Epoch 15/27\n",
      "766/766 [==============================] - 1s 1ms/step - loss: 0.9911 - accuracy: 0.5474 - val_loss: 0.9907 - val_accuracy: 0.5491\n",
      "Epoch 16/27\n",
      "766/766 [==============================] - 1s 1ms/step - loss: 0.9912 - accuracy: 0.5474 - val_loss: 0.9903 - val_accuracy: 0.5491\n",
      "Epoch 17/27\n",
      "766/766 [==============================] - 1s 1ms/step - loss: 0.9922 - accuracy: 0.5465 - val_loss: 1.0132 - val_accuracy: 0.5491\n",
      "Epoch 18/27\n",
      "766/766 [==============================] - 1s 1ms/step - loss: 0.9913 - accuracy: 0.5474 - val_loss: 0.9902 - val_accuracy: 0.5491\n",
      "Epoch 19/27\n",
      "766/766 [==============================] - 1s 1ms/step - loss: 0.9911 - accuracy: 0.5474 - val_loss: 0.9902 - val_accuracy: 0.5491\n",
      "Epoch 20/27\n",
      "766/766 [==============================] - 1s 1ms/step - loss: 0.9912 - accuracy: 0.5474 - val_loss: 0.9903 - val_accuracy: 0.5491\n",
      "Epoch 21/27\n",
      "766/766 [==============================] - 1s 1ms/step - loss: 0.9912 - accuracy: 0.5474 - val_loss: 0.9905 - val_accuracy: 0.5491\n",
      "Epoch 22/27\n",
      "766/766 [==============================] - 1s 1ms/step - loss: 0.9913 - accuracy: 0.5474 - val_loss: 0.9902 - val_accuracy: 0.5491\n",
      "Epoch 23/27\n",
      "766/766 [==============================] - 1s 1ms/step - loss: 0.9911 - accuracy: 0.5474 - val_loss: 0.9903 - val_accuracy: 0.5491\n",
      "Epoch 24/27\n",
      "766/766 [==============================] - 1s 1ms/step - loss: 0.9913 - accuracy: 0.5472 - val_loss: 0.9909 - val_accuracy: 0.5491\n",
      "Epoch 25/27\n",
      "766/766 [==============================] - 1s 1ms/step - loss: 0.9916 - accuracy: 0.5474 - val_loss: 0.9907 - val_accuracy: 0.5491\n",
      "Epoch 26/27\n",
      "766/766 [==============================] - 1s 1ms/step - loss: 0.9913 - accuracy: 0.5472 - val_loss: 0.9902 - val_accuracy: 0.5491\n",
      "Epoch 27/27\n",
      "766/766 [==============================] - 1s 1ms/step - loss: 0.9912 - accuracy: 0.5474 - val_loss: 0.9904 - val_accuracy: 0.5491\n"
     ]
    }
   ],
   "source": [
    "history = model.fit(x=x_train, y=y_train_encoded, validation_data=(x_val, y_val_encoded), epochs=27, batch_size=32)"
   ]
  },
  {
   "cell_type": "code",
   "execution_count": 7,
   "metadata": {},
   "outputs": [
    {
     "name": "stdout",
     "output_type": "stream",
     "text": [
      "96/96 [==============================] - 0s 784us/step - loss: 0.9976 - accuracy: 0.5441\n"
     ]
    }
   ],
   "source": [
    "results = model.evaluate(x_test, y_test_encoded, verbose=1)"
   ]
  },
  {
   "cell_type": "code",
   "execution_count": 8,
   "metadata": {},
   "outputs": [
    {
     "name": "stderr",
     "output_type": "stream",
     "text": [
      "c:\\Users\\Ryannnnnnnn\\anaconda3\\envs\\tf\\lib\\site-packages\\keras\\src\\engine\\training.py:3103: UserWarning: You are saving your model as an HDF5 file via `model.save()`. This file format is considered legacy. We recommend using instead the native Keras format, e.g. `model.save('my_model.keras')`.\n",
      "  saving_api.save_model(\n"
     ]
    },
    {
     "name": "stdout",
     "output_type": "stream",
     "text": [
      "INFO:tensorflow:Assets written to: wklyStudyHours_SavedModel\\assets\n"
     ]
    },
    {
     "name": "stderr",
     "output_type": "stream",
     "text": [
      "INFO:tensorflow:Assets written to: wklyStudyHours_SavedModel\\assets\n"
     ]
    },
    {
     "name": "stdout",
     "output_type": "stream",
     "text": [
      "INFO:tensorflow:Assets written to: C:\\Users\\RYANNN~1\\AppData\\Local\\Temp\\tmp_4xjroc3\\assets\n"
     ]
    },
    {
     "name": "stderr",
     "output_type": "stream",
     "text": [
      "INFO:tensorflow:Assets written to: C:\\Users\\RYANNN~1\\AppData\\Local\\Temp\\tmp_4xjroc3\\assets\n"
     ]
    }
   ],
   "source": [
    "model.save('wklyStudyHours_model.h5')\n",
    "model.save('wklyStudyHours_model.keras', save_format='keras')\n",
    "model.save(\"wklyStudyHours_SavedModel\", save_format='tf')\n",
    "#tfjs.converters.save_keras_model(model, \"wklyStudyHours_TensorFlowJS\")\n",
    "\n",
    "converter = tf.lite.TFLiteConverter.from_keras_model(model)\n",
    "tflite_model = converter.convert()\n",
    "with open(\"wklyStudyHours.tflite\", \"wb\") as f:\n",
    "    f.write(tflite_model)"
   ]
  }
 ],
 "metadata": {
  "kernelspec": {
   "display_name": "tf",
   "language": "python",
   "name": "python3"
  },
  "language_info": {
   "codemirror_mode": {
    "name": "ipython",
    "version": 3
   },
   "file_extension": ".py",
   "mimetype": "text/x-python",
   "name": "python",
   "nbconvert_exporter": "python",
   "pygments_lexer": "ipython3",
   "version": "3.9.21"
  }
 },
 "nbformat": 4,
 "nbformat_minor": 2
}
